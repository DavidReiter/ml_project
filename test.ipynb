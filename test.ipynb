{
 "cells": [
  {
   "cell_type": "code",
   "execution_count": 68,
   "metadata": {},
   "outputs": [],
   "source": [
    "import librosa\n",
    "import pickle\n",
    "import numpy as np\n",
    "import pandas as pd\n",
    "\n",
    "Instruments = sorted(['vio', 'pia', 'org', 'gel', 'gac', 'voi'])\n",
    "\n",
    "def predict_instrument(filename):\n",
    "\n",
    "    # load model\n",
    "    svm_model = pickle.load(open('./model.pkl', 'rb'))\n",
    "\n",
    "    # load scaler\n",
    "    scaler = pickle.load(open('./scaler.pkl','rb'))\n",
    "\n",
    "    y, sr = librosa.load(filename, sr =44100)\n",
    "    rms = librosa.feature.rms(y=y)\n",
    "    spec_cent = librosa.feature.spectral_centroid(y=y, sr=sr)\n",
    "    spec_bw = librosa.feature.spectral_bandwidth(y=y, sr=sr)\n",
    "    rolloff = librosa.feature.spectral_rolloff(y=y, sr=sr)\n",
    "    zcr = librosa.feature.zero_crossing_rate(y)\n",
    "    mfcc = librosa.feature.mfcc(y=y, sr=sr)\n",
    "\n",
    "    columns = ['rms', 'spectral_centroid', 'spectral_bandwidth', 'rolloff', 'zero_crossing_rate']\n",
    "    for i in range(len(mfcc)):\n",
    "        columns.append('mfcc' + str(i+1))\n",
    "\n",
    "    rows = [np.mean(rms), np.mean(spec_cent), np.mean(spec_bw), np.mean(rolloff), np.mean(zcr)]\n",
    "\n",
    "    for i in mfcc:\n",
    "        rows.append(np.mean(i))\n",
    "    \n",
    "    # create dataframe\n",
    "    df_test = pd.DataFrame([rows])\n",
    "    df_test.columns = columns\n",
    "\n",
    "    # uniformly scale data\n",
    "    test_transform = scaler.transform(df_test.values)\n",
    "\n",
    "    return svm_model.predict(test_transform)"
   ]
  },
  {
   "cell_type": "code",
   "execution_count": 69,
   "metadata": {},
   "outputs": [
    {
     "data": {
      "text/plain": [
       "'voi'"
      ]
     },
     "execution_count": 69,
     "metadata": {},
     "output_type": "execute_result"
    }
   ],
   "source": [
    "file_name = './IRMAS-TrainingData/voi/033__[voi][nod][pop_roc]2467__1.wav'    \n",
    "result = predict_instrument(file_name)\n",
    "\n",
    "Instruments[result[0]]"
   ]
  },
  {
   "cell_type": "code",
   "execution_count": 70,
   "metadata": {},
   "outputs": [
    {
     "data": {
      "text/plain": [
       "'vio'"
      ]
     },
     "execution_count": 70,
     "metadata": {},
     "output_type": "execute_result"
    }
   ],
   "source": [
    "file_name = './IRMAS-TrainingData/vio/099__[vio][nod][cla]2172__1.wav'    \n",
    "result = predict_instrument(file_name)\n",
    "\n",
    "Instruments[result[0]]"
   ]
  },
  {
   "cell_type": "code",
   "execution_count": 71,
   "metadata": {},
   "outputs": [
    {
     "data": {
      "text/plain": [
       "'gac'"
      ]
     },
     "execution_count": 71,
     "metadata": {},
     "output_type": "execute_result"
    }
   ],
   "source": [
    "file_name = './IRMAS-TrainingData/gac/040__[gac][nod][cou_fol]0713__2.wav'    \n",
    "result = predict_instrument(file_name)\n",
    "\n",
    "Instruments[result[0]]"
   ]
  },
  {
   "cell_type": "code",
   "execution_count": 72,
   "metadata": {},
   "outputs": [
    {
     "data": {
      "text/plain": [
       "'gel'"
      ]
     },
     "execution_count": 72,
     "metadata": {},
     "output_type": "execute_result"
    }
   ],
   "source": [
    "file_name = './IRMAS-TrainingData/gel/251__[gel][dru][pop_roc]0833__2.wav'    \n",
    "result = predict_instrument(file_name)\n",
    "\n",
    "Instruments[result[0]]"
   ]
  },
  {
   "cell_type": "code",
   "execution_count": 73,
   "metadata": {},
   "outputs": [
    {
     "data": {
      "text/plain": [
       "'voi'"
      ]
     },
     "execution_count": 73,
     "metadata": {},
     "output_type": "execute_result"
    }
   ],
   "source": [
    "file_name = './project/IRMAS-TestingData-Part1/Part1/00 - gold fronts-12.wav'    \n",
    "result = predict_instrument(file_name)\n",
    "\n",
    "Instruments[result[0]]"
   ]
  },
  {
   "cell_type": "code",
   "execution_count": 74,
   "metadata": {},
   "outputs": [
    {
     "data": {
      "text/plain": [
       "'gel'"
      ]
     },
     "execution_count": 74,
     "metadata": {},
     "output_type": "execute_result"
    }
   ],
   "source": [
    "file_name = './project/IRMAS-TestingData-Part1/Part1/(02) dont kill the whale-1.wav'    \n",
    "result = predict_instrument(file_name)\n",
    "\n",
    "Instruments[result[0]]"
   ]
  }
 ],
 "metadata": {
  "kernelspec": {
   "display_name": "Python 3",
   "language": "python",
   "name": "python3"
  },
  "language_info": {
   "codemirror_mode": {
    "name": "ipython",
    "version": 3
   },
   "file_extension": ".py",
   "mimetype": "text/x-python",
   "name": "python",
   "nbconvert_exporter": "python",
   "pygments_lexer": "ipython3",
   "version": "3.10.8"
  },
  "orig_nbformat": 4,
  "vscode": {
   "interpreter": {
    "hash": "b629c3126b5df0b3c19ac5f524890cb3a3a2e86c1a2f2c4b1c29287aa73e65d0"
   }
  }
 },
 "nbformat": 4,
 "nbformat_minor": 2
}
