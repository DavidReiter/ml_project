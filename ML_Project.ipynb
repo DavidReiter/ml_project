{
  "cells": [
    {
      "cell_type": "markdown",
      "metadata": {
        "id": "0yI_uoSRdgSQ"
      },
      "source": [
        "# Instrument recognition in musical audio signals\n",
        "Group 2: Jakob Dittrich, Lea Franz, David Reiter, Thomas Sickinger"
      ]
    },
    {
      "cell_type": "markdown",
      "metadata": {
        "id": "eBCgVkzkfiYk"
      },
      "source": [
        "## Setup"
      ]
    },
    {
      "cell_type": "code",
      "execution_count": 35,
      "metadata": {
        "id": "l3TqArgodfgg"
      },
      "outputs": [],
      "source": [
        "import pandas as pd\n",
        "import numpy as np\n",
        "from pandas.plotting import scatter_matrix\n",
        "import matplotlib.pyplot as plt\n",
        "import seaborn as sns\n",
        "import librosa\n",
        "\n",
        "from sklearn.decomposition import PCA\n",
        "from sklearn.preprocessing import scale\n",
        "from sklearn.utils import shuffle\n",
        "from sklearn.model_selection import train_test_split\n",
        "from sklearn.preprocessing import LabelEncoder, StandardScaler\n",
        "from sklearn.metrics import confusion_matrix\n",
        "from sklearn.metrics import ConfusionMatrixDisplay\n",
        "from sklearn.svm import SVC\n",
        "from sklearn.metrics import recall_score, precision_score, accuracy_score\n",
        "from sklearn.metrics import confusion_matrix, f1_score, classification_report\n",
        "from sklearn.model_selection import cross_val_score\n",
        "\n",
        "\n",
        "\n",
        "import librosa\n",
        "%matplotlib inline\n",
        "import os\n",
        "from PIL import Image\n",
        "import pathlib\n",
        "import csv\n",
        "\n",
        "# color for plots\n",
        "pltcolor = '#002b36'\n",
        "plt.rcParams['figure.figsize'] = [16, 9]"
      ]
    },
    {
      "cell_type": "markdown",
      "metadata": {
        "id": "bcrxZcGRfoxN"
      },
      "source": [
        "## Data"
      ]
    },
    {
      "cell_type": "markdown",
      "metadata": {
        "id": "vrHzX5WMg9NB"
      },
      "source": [
        "The training data contains 6705 audio files in 16 bit stereo wav format sampled at 44.1kHz. They are excerpts of 3 seconds from more than 2000 distinct recordings. The number of files per instrument are: cello (388), clarinet (505), flute (451), acoustic guitar (637), electric guitar (760), organ (682), piano (721), saxophone (626), trumpet (577), violin (580), human voice (778).\n",
        "\n",
        "\n",
        "The test data contains 2874 excerpts in 16 bit stereo wav format sampled at 44.1kHz.\n",
        "\n",
        "Source: https://www.upf.edu/web/mtg/irmas"
      ]
    },
    {
      "cell_type": "markdown",
      "metadata": {
        "id": "dEp14wUqjGIA"
      },
      "source": [
        "### Loading the data\n",
        "For loading the audio data we use **librosa**. This is python package for music and audio analysis. It provides the building blocks necessary to create music information retrieval systems."
      ]
    },
    {
      "cell_type": "markdown",
      "metadata": {
        "id": "bADwmXXbOsyO"
      },
      "source": [
        "### Feature extraction"
      ]
    },
    {
      "cell_type": "markdown",
      "metadata": {
        "id": "RwDDJ5qFPKu_"
      },
      "source": [
        "Zero Crossing Rate: the rate at which the signal crosses zero\n",
        "Spectral Centroid: the center of mass in the spectrum\n",
        "Spectral Bandwidth: the weighted average of the frequency signal by its spectrum\n",
        "Spectral Roll-Off: frequency below which a specified percentage of the total spectral energy"
      ]
    },
    {
      "cell_type": "code",
      "execution_count": 4,
      "metadata": {
        "id": "FP0nvBgrdlJZ"
      },
      "outputs": [],
      "source": [
        "header = 'filename rms spectral_centroid spectral_bandwidth rolloff zero_crossing_rate'\n",
        "for i in range(1, 21):\n",
        "    header += f' mfcc{i}'\n",
        "header += ' label'\n",
        "header = header.split()"
      ]
    },
    {
      "cell_type": "code",
      "execution_count": 7,
      "metadata": {},
      "outputs": [],
      "source": [
        "\n",
        "\n",
        "file = open('data.csv', 'w', newline='')\n",
        "with file:\n",
        "    writer = csv.writer(file)\n",
        "    writer.writerow(header)\n",
        "\n"
      ]
    },
    {
      "cell_type": "code",
      "execution_count": 13,
      "metadata": {},
      "outputs": [],
      "source": [
        "Instruments = 'flu pia tru org gac voi'.split()\n",
        "for i in Instruments:\n",
        "    for filename in os.listdir(f'C:/Users/david/anaconda notebooks/Machine Learning/project/IRMAS-TrainingData/{i}'):\n",
        "        songname = f'C:/Users/david/anaconda notebooks/Machine Learning/project/IRMAS-TrainingData/{i}/{filename}'\n",
        "        y, sr = librosa.load(songname, sr =44100)\n",
        "        rms = librosa.feature.rms(y=y)\n",
        "        spec_cent = librosa.feature.spectral_centroid(y=y, sr=sr)\n",
        "        spec_bw = librosa.feature.spectral_bandwidth(y=y, sr=sr)\n",
        "        rolloff = librosa.feature.spectral_rolloff(y=y, sr=sr)\n",
        "        zcr = librosa.feature.zero_crossing_rate(y)\n",
        "        mfcc = librosa.feature.mfcc(y=y, sr=sr)\n",
        "        to_append = f'{filename} {np.mean(rms)} {np.mean(spec_cent)} {np.mean(spec_bw)} {np.mean(rolloff)} {np.mean(zcr)}'    \n",
        "        for e in mfcc:\n",
        "            to_append += f' {np.mean(e)}'\n",
        "        to_append += f' {i}'\n",
        "        file = open('data.csv', 'a', newline='')\n",
        "        with file:\n",
        "            writer = csv.writer(file)\n",
        "            writer.writerow(to_append.split())"
      ]
    },
    {
      "cell_type": "code",
      "execution_count": 14,
      "metadata": {},
      "outputs": [
        {
          "data": {
            "text/html": [
              "<div>\n",
              "<style scoped>\n",
              "    .dataframe tbody tr th:only-of-type {\n",
              "        vertical-align: middle;\n",
              "    }\n",
              "\n",
              "    .dataframe tbody tr th {\n",
              "        vertical-align: top;\n",
              "    }\n",
              "\n",
              "    .dataframe thead th {\n",
              "        text-align: right;\n",
              "    }\n",
              "</style>\n",
              "<table border=\"1\" class=\"dataframe\">\n",
              "  <thead>\n",
              "    <tr style=\"text-align: right;\">\n",
              "      <th></th>\n",
              "      <th>filename</th>\n",
              "      <th>rms</th>\n",
              "      <th>spectral_centroid</th>\n",
              "      <th>spectral_bandwidth</th>\n",
              "      <th>rolloff</th>\n",
              "      <th>zero_crossing_rate</th>\n",
              "      <th>mfcc1</th>\n",
              "      <th>mfcc2</th>\n",
              "      <th>mfcc3</th>\n",
              "      <th>mfcc4</th>\n",
              "      <th>...</th>\n",
              "      <th>mfcc12</th>\n",
              "      <th>mfcc13</th>\n",
              "      <th>mfcc14</th>\n",
              "      <th>mfcc15</th>\n",
              "      <th>mfcc16</th>\n",
              "      <th>mfcc17</th>\n",
              "      <th>mfcc18</th>\n",
              "      <th>mfcc19</th>\n",
              "      <th>mfcc20</th>\n",
              "      <th>label</th>\n",
              "    </tr>\n",
              "  </thead>\n",
              "  <tbody>\n",
              "    <tr>\n",
              "      <th>0</th>\n",
              "      <td>008__[flu][nod][cla]0393__1.wav</td>\n",
              "      <td>0.041384</td>\n",
              "      <td>1324.199249</td>\n",
              "      <td>1918.867304</td>\n",
              "      <td>1637.105416</td>\n",
              "      <td>0.042741</td>\n",
              "      <td>-380.337616</td>\n",
              "      <td>194.652420</td>\n",
              "      <td>0.845311</td>\n",
              "      <td>-12.051190</td>\n",
              "      <td>...</td>\n",
              "      <td>-7.628513</td>\n",
              "      <td>4.840517</td>\n",
              "      <td>-6.557875</td>\n",
              "      <td>-9.930728</td>\n",
              "      <td>-16.661924</td>\n",
              "      <td>-9.294560</td>\n",
              "      <td>-2.751670</td>\n",
              "      <td>-2.165901</td>\n",
              "      <td>1.932015</td>\n",
              "      <td>flu</td>\n",
              "    </tr>\n",
              "    <tr>\n",
              "      <th>1</th>\n",
              "      <td>008__[flu][nod][cla]0393__2.wav</td>\n",
              "      <td>0.038483</td>\n",
              "      <td>1123.974170</td>\n",
              "      <td>1591.315078</td>\n",
              "      <td>1609.336729</td>\n",
              "      <td>0.033182</td>\n",
              "      <td>-392.331512</td>\n",
              "      <td>214.486053</td>\n",
              "      <td>-7.058401</td>\n",
              "      <td>-12.224262</td>\n",
              "      <td>...</td>\n",
              "      <td>-9.103989</td>\n",
              "      <td>-4.731387</td>\n",
              "      <td>-13.547755</td>\n",
              "      <td>-9.173700</td>\n",
              "      <td>-11.763280</td>\n",
              "      <td>-2.906017</td>\n",
              "      <td>1.568288</td>\n",
              "      <td>0.220456</td>\n",
              "      <td>0.958660</td>\n",
              "      <td>flu</td>\n",
              "    </tr>\n",
              "    <tr>\n",
              "      <th>2</th>\n",
              "      <td>008__[flu][nod][cla]0393__3.wav</td>\n",
              "      <td>0.068834</td>\n",
              "      <td>1346.845745</td>\n",
              "      <td>1835.863034</td>\n",
              "      <td>1725.898701</td>\n",
              "      <td>0.048355</td>\n",
              "      <td>-326.475769</td>\n",
              "      <td>199.856110</td>\n",
              "      <td>-6.817063</td>\n",
              "      <td>-18.801710</td>\n",
              "      <td>...</td>\n",
              "      <td>-4.161035</td>\n",
              "      <td>4.904843</td>\n",
              "      <td>-12.327797</td>\n",
              "      <td>-13.420050</td>\n",
              "      <td>-13.455204</td>\n",
              "      <td>-1.928725</td>\n",
              "      <td>-0.520475</td>\n",
              "      <td>-3.958643</td>\n",
              "      <td>1.799282</td>\n",
              "      <td>flu</td>\n",
              "    </tr>\n",
              "    <tr>\n",
              "      <th>3</th>\n",
              "      <td>009__[flu][nod][cou_fol]0410__1.wav</td>\n",
              "      <td>0.110672</td>\n",
              "      <td>3731.857796</td>\n",
              "      <td>2916.063001</td>\n",
              "      <td>6536.033837</td>\n",
              "      <td>0.083345</td>\n",
              "      <td>-278.265625</td>\n",
              "      <td>34.690239</td>\n",
              "      <td>-115.731903</td>\n",
              "      <td>11.941927</td>\n",
              "      <td>...</td>\n",
              "      <td>-10.709307</td>\n",
              "      <td>21.715712</td>\n",
              "      <td>19.567368</td>\n",
              "      <td>2.223477</td>\n",
              "      <td>-0.893254</td>\n",
              "      <td>-6.435685</td>\n",
              "      <td>-7.909177</td>\n",
              "      <td>-0.824891</td>\n",
              "      <td>5.366472</td>\n",
              "      <td>flu</td>\n",
              "    </tr>\n",
              "    <tr>\n",
              "      <th>4</th>\n",
              "      <td>009__[flu][nod][cou_fol]0410__2.wav</td>\n",
              "      <td>0.135578</td>\n",
              "      <td>3564.364963</td>\n",
              "      <td>2857.784457</td>\n",
              "      <td>6234.319573</td>\n",
              "      <td>0.082947</td>\n",
              "      <td>-271.554169</td>\n",
              "      <td>38.720463</td>\n",
              "      <td>-108.625481</td>\n",
              "      <td>5.935997</td>\n",
              "      <td>...</td>\n",
              "      <td>-0.944184</td>\n",
              "      <td>17.835960</td>\n",
              "      <td>6.320951</td>\n",
              "      <td>-5.579783</td>\n",
              "      <td>1.722641</td>\n",
              "      <td>1.136189</td>\n",
              "      <td>-4.124919</td>\n",
              "      <td>-1.088647</td>\n",
              "      <td>4.311995</td>\n",
              "      <td>flu</td>\n",
              "    </tr>\n",
              "  </tbody>\n",
              "</table>\n",
              "<p>5 rows × 27 columns</p>\n",
              "</div>"
            ],
            "text/plain": [
              "                              filename       rms  spectral_centroid  \\\n",
              "0      008__[flu][nod][cla]0393__1.wav  0.041384        1324.199249   \n",
              "1      008__[flu][nod][cla]0393__2.wav  0.038483        1123.974170   \n",
              "2      008__[flu][nod][cla]0393__3.wav  0.068834        1346.845745   \n",
              "3  009__[flu][nod][cou_fol]0410__1.wav  0.110672        3731.857796   \n",
              "4  009__[flu][nod][cou_fol]0410__2.wav  0.135578        3564.364963   \n",
              "\n",
              "   spectral_bandwidth      rolloff  zero_crossing_rate       mfcc1  \\\n",
              "0         1918.867304  1637.105416            0.042741 -380.337616   \n",
              "1         1591.315078  1609.336729            0.033182 -392.331512   \n",
              "2         1835.863034  1725.898701            0.048355 -326.475769   \n",
              "3         2916.063001  6536.033837            0.083345 -278.265625   \n",
              "4         2857.784457  6234.319573            0.082947 -271.554169   \n",
              "\n",
              "        mfcc2       mfcc3      mfcc4  ...     mfcc12     mfcc13     mfcc14  \\\n",
              "0  194.652420    0.845311 -12.051190  ...  -7.628513   4.840517  -6.557875   \n",
              "1  214.486053   -7.058401 -12.224262  ...  -9.103989  -4.731387 -13.547755   \n",
              "2  199.856110   -6.817063 -18.801710  ...  -4.161035   4.904843 -12.327797   \n",
              "3   34.690239 -115.731903  11.941927  ... -10.709307  21.715712  19.567368   \n",
              "4   38.720463 -108.625481   5.935997  ...  -0.944184  17.835960   6.320951   \n",
              "\n",
              "      mfcc15     mfcc16    mfcc17    mfcc18    mfcc19    mfcc20  label  \n",
              "0  -9.930728 -16.661924 -9.294560 -2.751670 -2.165901  1.932015    flu  \n",
              "1  -9.173700 -11.763280 -2.906017  1.568288  0.220456  0.958660    flu  \n",
              "2 -13.420050 -13.455204 -1.928725 -0.520475 -3.958643  1.799282    flu  \n",
              "3   2.223477  -0.893254 -6.435685 -7.909177 -0.824891  5.366472    flu  \n",
              "4  -5.579783   1.722641  1.136189 -4.124919 -1.088647  4.311995    flu  \n",
              "\n",
              "[5 rows x 27 columns]"
            ]
          },
          "execution_count": 14,
          "metadata": {},
          "output_type": "execute_result"
        }
      ],
      "source": [
        "df = pd.read_csv('data.csv')\n",
        "df.head()\n"
      ]
    },
    {
      "cell_type": "code",
      "execution_count": 16,
      "metadata": {},
      "outputs": [
        {
          "name": "stdout",
          "output_type": "stream",
          "text": [
            "(3846, 27)\n"
          ]
        }
      ],
      "source": [
        "print(df.shape)\n",
        "# extract features without filename\n",
        "features = df[df.columns[2:26]]"
      ]
    },
    {
      "cell_type": "code",
      "execution_count": 19,
      "metadata": {},
      "outputs": [
        {
          "data": {
            "image/png": "[encoded data removed]",
            "text/plain": [
              "<Figure size 1600x900 with 1 Axes>"
            ]
          },
          "metadata": {},
          "output_type": "display_data"
        }
      ],
      "source": [
        "X = scale(features)\n",
        "pca = PCA().fit(X)\n",
        "plt.plot(np.cumsum(pca.explained_variance_ratio_))\n",
        "plt.xlabel('number of components')\n",
        "plt.ylabel('cumulative explained variance')\n",
        "plt.show()\n",
        "\n"
      ]
    },
    {
      "cell_type": "code",
      "execution_count": 20,
      "metadata": {},
      "outputs": [],
      "source": [
        "# drop filename from dataframe\n",
        "df = df.drop(['filename'],axis=1)"
      ]
    },
    {
      "cell_type": "code",
      "execution_count": 22,
      "metadata": {},
      "outputs": [
        {
          "data": {
            "text/html": [
              "<div>\n",
              "<style scoped>\n",
              "    .dataframe tbody tr th:only-of-type {\n",
              "        vertical-align: middle;\n",
              "    }\n",
              "\n",
              "    .dataframe tbody tr th {\n",
              "        vertical-align: top;\n",
              "    }\n",
              "\n",
              "    .dataframe thead th {\n",
              "        text-align: right;\n",
              "    }\n",
              "</style>\n",
              "<table border=\"1\" class=\"dataframe\">\n",
              "  <thead>\n",
              "    <tr style=\"text-align: right;\">\n",
              "      <th></th>\n",
              "      <th>rms</th>\n",
              "      <th>spectral_centroid</th>\n",
              "      <th>spectral_bandwidth</th>\n",
              "      <th>rolloff</th>\n",
              "      <th>zero_crossing_rate</th>\n",
              "      <th>mfcc1</th>\n",
              "      <th>mfcc2</th>\n",
              "      <th>mfcc3</th>\n",
              "      <th>mfcc4</th>\n",
              "      <th>mfcc5</th>\n",
              "      <th>...</th>\n",
              "      <th>mfcc12</th>\n",
              "      <th>mfcc13</th>\n",
              "      <th>mfcc14</th>\n",
              "      <th>mfcc15</th>\n",
              "      <th>mfcc16</th>\n",
              "      <th>mfcc17</th>\n",
              "      <th>mfcc18</th>\n",
              "      <th>mfcc19</th>\n",
              "      <th>mfcc20</th>\n",
              "      <th>label</th>\n",
              "    </tr>\n",
              "  </thead>\n",
              "  <tbody>\n",
              "    <tr>\n",
              "      <th>3702</th>\n",
              "      <td>0.063341</td>\n",
              "      <td>1887.641356</td>\n",
              "      <td>2920.792588</td>\n",
              "      <td>3879.052734</td>\n",
              "      <td>0.034315</td>\n",
              "      <td>-282.627960</td>\n",
              "      <td>178.439850</td>\n",
              "      <td>24.932907</td>\n",
              "      <td>21.310320</td>\n",
              "      <td>-12.475399</td>\n",
              "      <td>...</td>\n",
              "      <td>-5.823398</td>\n",
              "      <td>-8.288774</td>\n",
              "      <td>0.825588</td>\n",
              "      <td>-0.305034</td>\n",
              "      <td>-5.560237</td>\n",
              "      <td>-5.206818</td>\n",
              "      <td>3.530899</td>\n",
              "      <td>-0.769603</td>\n",
              "      <td>-5.549954</td>\n",
              "      <td>voi</td>\n",
              "    </tr>\n",
              "    <tr>\n",
              "      <th>3287</th>\n",
              "      <td>0.104930</td>\n",
              "      <td>2242.317352</td>\n",
              "      <td>2513.742100</td>\n",
              "      <td>4361.928579</td>\n",
              "      <td>0.057119</td>\n",
              "      <td>-170.324844</td>\n",
              "      <td>179.306793</td>\n",
              "      <td>-52.540520</td>\n",
              "      <td>44.115475</td>\n",
              "      <td>-13.910841</td>\n",
              "      <td>...</td>\n",
              "      <td>-1.932448</td>\n",
              "      <td>-2.357487</td>\n",
              "      <td>-7.685655</td>\n",
              "      <td>-0.765182</td>\n",
              "      <td>-7.043972</td>\n",
              "      <td>-2.488256</td>\n",
              "      <td>-5.746339</td>\n",
              "      <td>0.585556</td>\n",
              "      <td>-4.481190</td>\n",
              "      <td>voi</td>\n",
              "    </tr>\n",
              "    <tr>\n",
              "      <th>2645</th>\n",
              "      <td>0.021514</td>\n",
              "      <td>663.591443</td>\n",
              "      <td>1152.650533</td>\n",
              "      <td>1028.272804</td>\n",
              "      <td>0.016336</td>\n",
              "      <td>-494.106842</td>\n",
              "      <td>222.459778</td>\n",
              "      <td>61.070747</td>\n",
              "      <td>7.143574</td>\n",
              "      <td>1.491584</td>\n",
              "      <td>...</td>\n",
              "      <td>-5.585597</td>\n",
              "      <td>-2.452932</td>\n",
              "      <td>-5.662074</td>\n",
              "      <td>-8.649795</td>\n",
              "      <td>-8.616337</td>\n",
              "      <td>-9.249663</td>\n",
              "      <td>-8.799469</td>\n",
              "      <td>-4.283798</td>\n",
              "      <td>-0.209346</td>\n",
              "      <td>gac</td>\n",
              "    </tr>\n",
              "    <tr>\n",
              "      <th>2637</th>\n",
              "      <td>0.051519</td>\n",
              "      <td>962.290350</td>\n",
              "      <td>1337.995059</td>\n",
              "      <td>1667.451436</td>\n",
              "      <td>0.022333</td>\n",
              "      <td>-370.837463</td>\n",
              "      <td>190.028702</td>\n",
              "      <td>6.821610</td>\n",
              "      <td>3.572097</td>\n",
              "      <td>11.671145</td>\n",
              "      <td>...</td>\n",
              "      <td>-15.666713</td>\n",
              "      <td>-9.687362</td>\n",
              "      <td>-3.046289</td>\n",
              "      <td>-0.832102</td>\n",
              "      <td>-6.110205</td>\n",
              "      <td>-13.155462</td>\n",
              "      <td>-7.952098</td>\n",
              "      <td>-0.963191</td>\n",
              "      <td>1.673959</td>\n",
              "      <td>gac</td>\n",
              "    </tr>\n",
              "    <tr>\n",
              "      <th>2596</th>\n",
              "      <td>0.032185</td>\n",
              "      <td>1226.595403</td>\n",
              "      <td>1488.882290</td>\n",
              "      <td>2099.362595</td>\n",
              "      <td>0.032228</td>\n",
              "      <td>-401.165253</td>\n",
              "      <td>188.462204</td>\n",
              "      <td>-15.226898</td>\n",
              "      <td>1.994516</td>\n",
              "      <td>-0.767508</td>\n",
              "      <td>...</td>\n",
              "      <td>-11.657848</td>\n",
              "      <td>-3.875262</td>\n",
              "      <td>-4.512492</td>\n",
              "      <td>-4.452294</td>\n",
              "      <td>2.190393</td>\n",
              "      <td>6.080932</td>\n",
              "      <td>3.124646</td>\n",
              "      <td>-0.872379</td>\n",
              "      <td>-2.088057</td>\n",
              "      <td>gac</td>\n",
              "    </tr>\n",
              "  </tbody>\n",
              "</table>\n",
              "<p>5 rows × 26 columns</p>\n",
              "</div>"
            ],
            "text/plain": [
              "           rms  spectral_centroid  spectral_bandwidth      rolloff  \\\n",
              "3702  0.063341        1887.641356         2920.792588  3879.052734   \n",
              "3287  0.104930        2242.317352         2513.742100  4361.928579   \n",
              "2645  0.021514         663.591443         1152.650533  1028.272804   \n",
              "2637  0.051519         962.290350         1337.995059  1667.451436   \n",
              "2596  0.032185        1226.595403         1488.882290  2099.362595   \n",
              "\n",
              "      zero_crossing_rate       mfcc1       mfcc2      mfcc3      mfcc4  \\\n",
              "3702            0.034315 -282.627960  178.439850  24.932907  21.310320   \n",
              "3287            0.057119 -170.324844  179.306793 -52.540520  44.115475   \n",
              "2645            0.016336 -494.106842  222.459778  61.070747   7.143574   \n",
              "2637            0.022333 -370.837463  190.028702   6.821610   3.572097   \n",
              "2596            0.032228 -401.165253  188.462204 -15.226898   1.994516   \n",
              "\n",
              "          mfcc5  ...     mfcc12    mfcc13    mfcc14    mfcc15    mfcc16  \\\n",
              "3702 -12.475399  ...  -5.823398 -8.288774  0.825588 -0.305034 -5.560237   \n",
              "3287 -13.910841  ...  -1.932448 -2.357487 -7.685655 -0.765182 -7.043972   \n",
              "2645   1.491584  ...  -5.585597 -2.452932 -5.662074 -8.649795 -8.616337   \n",
              "2637  11.671145  ... -15.666713 -9.687362 -3.046289 -0.832102 -6.110205   \n",
              "2596  -0.767508  ... -11.657848 -3.875262 -4.512492 -4.452294  2.190393   \n",
              "\n",
              "         mfcc17    mfcc18    mfcc19    mfcc20  label  \n",
              "3702  -5.206818  3.530899 -0.769603 -5.549954    voi  \n",
              "3287  -2.488256 -5.746339  0.585556 -4.481190    voi  \n",
              "2645  -9.249663 -8.799469 -4.283798 -0.209346    gac  \n",
              "2637 -13.155462 -7.952098 -0.963191  1.673959    gac  \n",
              "2596   6.080932  3.124646 -0.872379 -2.088057    gac  \n",
              "\n",
              "[5 rows x 26 columns]"
            ]
          },
          "execution_count": 22,
          "metadata": {},
          "output_type": "execute_result"
        }
      ],
      "source": [
        "# shuffle dataframe\n",
        "df1 = shuffle(df)\n",
        "df1.head()\n",
        "\n"
      ]
    },
    {
      "cell_type": "code",
      "execution_count": 27,
      "metadata": {},
      "outputs": [],
      "source": [
        "# extract instrument labels\n",
        "instru_list = df1.iloc[:, -1]\n",
        "encoder = LabelEncoder()\n",
        "\n",
        "# encode labels to numeric values\n",
        "y = encoder.fit_transform(instru_list)\n",
        "\n",
        "# uniformly scale data\n",
        "scaler = StandardScaler()\n",
        "X = scaler.fit_transform(np.array(df1.iloc[:, :-1], dtype = float))"
      ]
    },
    {
      "cell_type": "code",
      "execution_count": 25,
      "metadata": {},
      "outputs": [
        {
          "name": "stdout",
          "output_type": "stream",
          "text": [
            "[5 5 1 ... 5 3 5]\n"
          ]
        }
      ],
      "source": [
        "# print labels\n",
        "print(y)"
      ]
    },
    {
      "cell_type": "code",
      "execution_count": 26,
      "metadata": {},
      "outputs": [],
      "source": [
        "# split dataset in train and test data\n",
        "X_train, X_test, y_train, y_test = train_test_split(X, y, test_size=0.2)"
      ]
    },
    {
      "attachments": {},
      "cell_type": "markdown",
      "metadata": {},
      "source": [
        "### SVM Model"
      ]
    },
    {
      "cell_type": "code",
      "execution_count": 29,
      "metadata": {},
      "outputs": [],
      "source": [
        "# create SVM kernel\n",
        "svclassifier = SVC(kernel='rbf', C = 10.0, gamma=0.1)\n",
        "\n",
        "# fit data\n",
        "svclassifier.fit(X_train, y_train);"
      ]
    },
    {
      "cell_type": "code",
      "execution_count": 32,
      "metadata": {},
      "outputs": [
        {
          "name": "stdout",
          "output_type": "stream",
          "text": [
            "Test score: 99.93 %\n"
          ]
        }
      ],
      "source": [
        "# Calculate the accuracy score and predict target values\n",
        "score = svclassifier.score(X_train, y_train)\n",
        "print(\"Test score: {0:.2f} %\".format(100 * score))\n",
        "\n"
      ]
    },
    {
      "cell_type": "code",
      "execution_count": 36,
      "metadata": {},
      "outputs": [
        {
          "name": "stdout",
          "output_type": "stream",
          "text": [
            "Recall:  [0.62790698 0.825      0.77922078 0.74496644 0.75       0.82165605]\n",
            "Precision:  [0.6835443  0.76153846 0.74074074 0.81021898 0.75728155 0.81132075]\n",
            "F1-Score:  [0.65454545 0.792      0.75949367 0.77622378 0.75362319 0.8164557 ]\n",
            "Accuracy: 0.77  , 591\n",
            "Number of samples: 770\n"
          ]
        },
        {
          "data": {
            "image/png": "[encoded data removed]",
            "text/plain": [
              "<Figure size 1600x900 with 2 Axes>"
            ]
          },
          "metadata": {},
          "output_type": "display_data"
        }
      ],
      "source": [
        "predicted_labels = svclassifier.predict(X_test)\n",
        "\n",
        "print(\"Recall: \", recall_score(y_test, predicted_labels,average=None))\n",
        "print(\"Precision: \", precision_score(y_test, predicted_labels,average=None))\n",
        "print(\"F1-Score: \", f1_score(y_test, predicted_labels, average=None))\n",
        "print(\"Accuracy: %.2f  ,\" % accuracy_score(y_test, predicted_labels,normalize=True), accuracy_score(y_test, predicted_labels,normalize=False) )\n",
        "\n",
        "print(\"Number of samples:\",y_test.shape[0])\n",
        "ConfusionMatrixDisplay(confusion_matrix(y_test, predicted_labels), display_labels=Instruments).plot(cmap=\"Blues\");\n"
      ]
    }
  ],
  "metadata": {
    "colab": {
      "provenance": []
    },
    "kernelspec": {
      "display_name": "Python 3",
      "language": "python",
      "name": "python3"
    },
    "language_info": {
      "codemirror_mode": {
        "name": "ipython",
        "version": 3
      },
      "file_extension": ".py",
      "mimetype": "text/x-python",
      "name": "python",
      "nbconvert_exporter": "python",
      "pygments_lexer": "ipython3",
      "version": "3.10.8"
    },
    "vscode": {
      "interpreter": {
        "hash": "b629c3126b5df0b3c19ac5f524890cb3a3a2e86c1a2f2c4b1c29287aa73e65d0"
      }
    }
  },
  "nbformat": 4,
  "nbformat_minor": 0
}
